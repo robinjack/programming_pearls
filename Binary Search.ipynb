{
 "cells": [
  {
   "cell_type": "code",
   "execution_count": 1,
   "id": "c549c8bd",
   "metadata": {},
   "outputs": [
    {
     "data": {
      "text/plain": [
       "'\\nHave a go at implementing binary search\\n\\n'"
      ]
     },
     "execution_count": 1,
     "metadata": {},
     "output_type": "execute_result"
    }
   ],
   "source": [
    "\"\"\"\n",
    "Have a go at implementing binary search\n",
    "\n",
    "\"\"\""
   ]
  },
  {
   "cell_type": "code",
   "execution_count": 6,
   "id": "2c9a9c3e",
   "metadata": {},
   "outputs": [],
   "source": [
    "import unittest\n",
    "\n",
    "# def binary_search(array, t):\n",
    "#     l = 0\n",
    "#     h = len(array) - 1\n",
    "\n",
    "#     while (l <= h):\n",
    "#         m = (l + h) // 2\n",
    "#         if (array[m] == t):\n",
    "#             return m\n",
    "#         elif (array[m] < t):\n",
    "#             l = m + 1\n",
    "#         else:\n",
    "#             h = m - 1\n",
    "\n",
    "#     return -1\n",
    "\n",
    "\n",
    "\n"
   ]
  },
  {
   "cell_type": "code",
   "execution_count": 16,
   "id": "b001ea1f",
   "metadata": {},
   "outputs": [],
   "source": [
    "\n",
    "\n",
    "\"\"\"\n",
    "How does binary search work?\n",
    "\n",
    "1. Assume input is sorted\n",
    "2. Look at an item halfway through the array\n",
    "3. Is the item bigger or larger than the searched foritem?\n",
    "4. Look at the corresponding entry\n",
    "\"\"\"\n",
    "\n",
    "\n",
    "def binary_search(array, item):\n",
    "    bottom = 0\n",
    "    top = len(array)\n",
    "    length = len(array)\n",
    "    pntr = int(top/2)\n",
    "    iters=0\n",
    "    curr_val = -1\n",
    "    \n",
    "#     a = [1,2,3,4]\n",
    "# 3\n",
    "#     b = [1,2,3,4,5]\n",
    "# 3\n",
    "    \n",
    "    \n",
    "    while iters < length:\n",
    "        curr_val = array[pntr]\n",
    "        if curr_val > item:\n",
    "            top = pntr\n",
    "            pntr = int((top + bottom) / 2)\n",
    "        elif curr_val < item:\n",
    "            bottom = pntr\n",
    "            pntr = int((top+bottom) / 2)\n",
    "        \n",
    "        if curr_val == item:\n",
    "            return pntr\n",
    "        iters+=1\n",
    "    \n",
    "    \n",
    "    return -1\n",
    "    \n",
    "    "
   ]
  },
  {
   "cell_type": "code",
   "execution_count": 23,
   "id": "2df1f13c",
   "metadata": {},
   "outputs": [
    {
     "name": "stdout",
     "output_type": "stream",
     "text": [
      "3\n",
      "2\n"
     ]
    }
   ],
   "source": [
    "assert binary_search([], 3) == -1\n",
    "assert binary_search([1, 2], 3) == -1\n",
    "assert binary_search([1, 2, 3, 4], 3) == 2\n",
    "assert binary_search([1, 2, 3, 4, 5,6,7,8,9,10,11,12,13,14,15,16,17,18,19,20], 3) == 2\n",
    "assert binary_search([1, 2, 3, 4], 3) == 2\n",
    "assert binary_search([1, 2, 3, 4], 1) == 0\n",
    "assert binary_search([1, 2, 3], 4) == -1\n",
    "assert binary_search([1, 2, 3], 3) == 2\n",
    "\n",
    "print(binary_search([1, 2, 3, 4], 4))\n",
    "print(binary_search([1, 2, 3], 3))"
   ]
  },
  {
   "cell_type": "code",
   "execution_count": null,
   "id": "86617ab8",
   "metadata": {},
   "outputs": [],
   "source": []
  }
 ],
 "metadata": {
  "kernelspec": {
   "display_name": "Python 3 (ipykernel)",
   "language": "python",
   "name": "python3"
  },
  "language_info": {
   "codemirror_mode": {
    "name": "ipython",
    "version": 3
   },
   "file_extension": ".py",
   "mimetype": "text/x-python",
   "name": "python",
   "nbconvert_exporter": "python",
   "pygments_lexer": "ipython3",
   "version": "3.9.12"
  }
 },
 "nbformat": 4,
 "nbformat_minor": 5
}
